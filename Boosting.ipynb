{
 "cells": [
  {
   "cell_type": "markdown",
   "metadata": {},
   "source": [
    "# <center> Boosting"
   ]
  },
  {
   "cell_type": "markdown",
   "metadata": {},
   "source": [
    "### Importation des librairies"
   ]
  },
  {
   "cell_type": "code",
   "execution_count": 1,
   "metadata": {
    "ExecuteTime": {
     "end_time": "2018-05-29T12:30:39.940485Z",
     "start_time": "2018-05-29T12:30:20.222030Z"
    }
   },
   "outputs": [
    {
     "name": "stdout",
     "output_type": "stream",
     "text": [
      "Populating the interactive namespace from numpy and matplotlib\n"
     ]
    }
   ],
   "source": [
    "from sklearn.ensemble import AdaBoostClassifier\n",
    "import numpy as np\n",
    "from sklearn.datasets import load_breast_cancer\n",
    "from sklearn.datasets import load_digits\n",
    "from sklearn import preprocessing\n",
    "from numpy.random import permutation\n",
    "from sklearn.tree import DecisionTreeClassifier\n",
    "from sklearn.tree import DecisionTreeRegressor\n",
    "from sklearn.model_selection import train_test_split\n",
    "from sklearn.ensemble import GradientBoostingClassifier\n",
    "from sklearn.neighbors import KNeighborsClassifier\n",
    "from sklearn.svm import SVC\n",
    "from sklearn.ensemble import RandomForestClassifier\n",
    "from skboost.skboost.gentleboost import GentleBoostClassifier\n",
    "from skboost.skboost.logitboost import LogitBoostClassifier\n",
    "%pylab inline"
   ]
  },
  {
   "cell_type": "markdown",
   "metadata": {},
   "source": [
    "### Importation des données d'étude"
   ]
  },
  {
   "cell_type": "code",
   "execution_count": 2,
   "metadata": {
    "ExecuteTime": {
     "end_time": "2018-05-29T12:30:40.149792Z",
     "start_time": "2018-05-29T12:30:39.944202Z"
    }
   },
   "outputs": [
    {
     "data": {
      "text/plain": [
       "(569, 30)"
      ]
     },
     "execution_count": 2,
     "metadata": {},
     "output_type": "execute_result"
    }
   ],
   "source": [
    "# Mise en place dataset Cancer du Sein\n",
    "data = load_breast_cancer()\n",
    "X=data[\"data\"]\n",
    "y=data[\"target\"]\n",
    "#intercept=np.ones(shape=(X.shape[0],1))\n",
    "#X=np.append(X,intercept,axis=1)\n",
    "X=preprocessing.normalize(X)\n",
    "Xtrain1, Xtest1, ytrain1, ytest1 = train_test_split(X, y, test_size=0.3)\n",
    "X.shape"
   ]
  },
  {
   "cell_type": "code",
   "execution_count": 3,
   "metadata": {
    "ExecuteTime": {
     "end_time": "2018-05-29T12:30:41.636099Z",
     "start_time": "2018-05-29T12:30:40.156181Z"
    }
   },
   "outputs": [],
   "source": [
    "# Mise en place dataset simulé\n",
    "n_samples, n_features = 1000, 50\n",
    "A = np.random.standard_normal((n_samples, n_features))\n",
    "#intercept=np.ones(shape=(A.shape[0],1))\n",
    "#A=np.append(A,intercept,axis=1)\n",
    "w = np.random.randn(n_features)\n",
    "b = A.dot(w) + np.random.randn(n_samples)\n",
    "y_sample = np.sign(b)\n",
    "Xtrain2, Xtest2, ytrain2, ytest2 = train_test_split(A, y_sample, test_size=0.3)"
   ]
  },
  {
   "cell_type": "markdown",
   "metadata": {},
   "source": [
    "### Comparaison de plusieurs classifieurs"
   ]
  },
  {
   "cell_type": "markdown",
   "metadata": {},
   "source": [
    "#### Comparaison entre classifieurs Fort et Classifieur faible en entrée d'Adaboost"
   ]
  },
  {
   "cell_type": "markdown",
   "metadata": {},
   "source": [
    "##### Données simulées :"
   ]
  },
  {
   "cell_type": "code",
   "execution_count": 4,
   "metadata": {
    "ExecuteTime": {
     "end_time": "2018-05-29T12:30:41.777951Z",
     "start_time": "2018-05-29T12:30:41.641924Z"
    }
   },
   "outputs": [
    {
     "data": {
      "text/plain": [
       "0.6166666666666667"
      ]
     },
     "execution_count": 4,
     "metadata": {},
     "output_type": "execute_result"
    }
   ],
   "source": [
    "# Arbre de décision => Classifieur faible\n",
    "dt = DecisionTreeClassifier(max_depth=1,max_leaf_nodes=2)\n",
    "dt.fit(Xtrain2, ytrain2)\n",
    "dt_sc =  dt.score(Xtest2, ytest2)\n",
    "dt_sc"
   ]
  },
  {
   "cell_type": "code",
   "execution_count": 5,
   "metadata": {
    "ExecuteTime": {
     "end_time": "2018-05-29T12:30:41.823323Z",
     "start_time": "2018-05-29T12:30:41.783847Z"
    }
   },
   "outputs": [
    {
     "data": {
      "text/plain": [
       "0.6033333333333334"
      ]
     },
     "execution_count": 5,
     "metadata": {},
     "output_type": "execute_result"
    }
   ],
   "source": [
    "# Arbre de décision => Classifieur fort\n",
    "dt2 = DecisionTreeClassifier(max_depth=5,max_leaf_nodes=5)\n",
    "dt2.fit(Xtrain2, ytrain2)\n",
    "dt2_sc =  dt2.score(Xtest2, ytest2)\n",
    "dt2_sc"
   ]
  },
  {
   "cell_type": "code",
   "execution_count": null,
   "metadata": {
    "ExecuteTime": {
     "start_time": "2018-05-29T12:30:20.240Z"
    }
   },
   "outputs": [
    {
     "data": {
      "text/plain": [
       "0.6266666666666667"
      ]
     },
     "execution_count": 6,
     "metadata": {},
     "output_type": "execute_result"
    }
   ],
   "source": [
    "# Arbre de décision => Classifieur fort\n",
    "dt3 = DecisionTreeClassifier(max_depth=10,max_leaf_nodes=10)\n",
    "dt3.fit(Xtrain2, ytrain2)\n",
    "dt3_sc =  dt3.score(Xtest2, ytest2)\n",
    "dt3_sc"
   ]
  },
  {
   "cell_type": "code",
   "execution_count": null,
   "metadata": {
    "ExecuteTime": {
     "start_time": "2018-05-29T12:30:20.257Z"
    }
   },
   "outputs": [
    {
     "name": "stdout",
     "output_type": "stream",
     "text": [
      "10  15  20  25  30  35  40  45  50  55  60  65  70  75  80  85  90  95  100  105  110  115  120  125  130  135  140  145  150  155  160  165  170  175  180  185  190  195  200  205  210  215  220  225  230  235  240  245  250  255  260  265  270  275  280  285  290  295  300  305  310  315  320  325  330  335  340  345  350  355  360  365  370  375  380  385  390  395  400  405  410  415  420  425  430  435  440  445  450  455  460  465  470  475  480  485  490  495  500  505  510  515  520  525  530  535  540  545  550  555  560  565  570  575  580  585  590  595  600  605  610  615  620  625  630  635  640  645  650  655  660  665  670  675  680  685  690  695  700  705  710  715  720  725  730  735  740  745  750  755  760  765  770  775  780  785  790  "
     ]
    }
   ],
   "source": [
    "Ltrain2=[]\n",
    "Ltest2=[]\n",
    "Ltrain5=[]\n",
    "Ltest5=[]\n",
    "Ltrain10=[]\n",
    "Ltest10=[]\n",
    "for k in range(10,1000,5):\n",
    "    print(k,' ',end=\"\")\n",
    "    ada1 = AdaBoostClassifier(base_estimator=dt,learning_rate=1,n_estimators=k,algorithm=\"SAMME\")\n",
    "    ada1.fit(Xtrain2, ytrain2)\n",
    "    Ltrain2.append(1-ada1.score(Xtrain2, ytrain2))\n",
    "    Ltest2.append(1-ada1.score(Xtest2, ytest2))\n",
    "    ada2 = AdaBoostClassifier(base_estimator=dt2,learning_rate=1,n_estimators=k,algorithm=\"SAMME\")\n",
    "    ada2.fit(Xtrain2, ytrain2)\n",
    "    Ltrain5.append(1-ada2.score(Xtrain2, ytrain2))\n",
    "    Ltest5.append(1-ada2.score(Xtest2, ytest2))\n",
    "    ada3 = AdaBoostClassifier(base_estimator=dt3,learning_rate=1,n_estimators=k,algorithm=\"SAMME\")\n",
    "    ada3.fit(Xtrain2, ytrain2)\n",
    "    Ltrain10.append(1-ada3.score(Xtrain2, ytrain2))\n",
    "    Ltest10.append(1-ada3.score(Xtest2, ytest2))"
   ]
  },
  {
   "cell_type": "code",
   "execution_count": null,
   "metadata": {
    "ExecuteTime": {
     "start_time": "2018-05-29T12:30:20.261Z"
    }
   },
   "outputs": [],
   "source": [
    "plt.figure(figsize=(15,10))\n",
    "plt.title(\"Evolution de la précision d'Adaboost en fonction  du nombre de classifieurs\")\n",
    "plot(Ltrain2,'--',label=\"Train : Profondeur 2\")\n",
    "plot(Ltest2,label=\"Test : Profondeur 2\")\n",
    "plot(Ltrain5,'--',label=\"Train : Profondeur 5\")\n",
    "plot(Ltest5,label=\"Test : Profondeur 5\")\n",
    "plot(Ltrain10,'--',label=\"Train : Profondeur 10\")\n",
    "plot(Ltest10,label=\"Test : Profondeur 10\")\n",
    "plt.xlabel(\"Nombre d'estimateurs\")\n",
    "plt.ylabel(\"Pourcentage d'erreur\")\n",
    "\n",
    "plt.legend()\n",
    "plt.show"
   ]
  },
  {
   "cell_type": "markdown",
   "metadata": {},
   "source": [
    "### Représentation simple d'adaboost"
   ]
  },
  {
   "cell_type": "code",
   "execution_count": null,
   "metadata": {
    "ExecuteTime": {
     "start_time": "2018-05-29T12:30:20.265Z"
    }
   },
   "outputs": [],
   "source": [
    "LtrainAdaboostreal=[]\n",
    "LtestAdaboostreal=[]\n",
    "LtrainAdaboostdiscrete=[]\n",
    "LtestAdaboostdiscrete=[]\n",
    "for k in range(10,1000,5):\n",
    "    print(k,\",\",end='')\n",
    "    ada1 = AdaBoostClassifier(learning_rate=1,n_estimators=k,algorithm=\"SAMME.R\")\n",
    "    ada1.fit(Xtrain2, ytrain2)\n",
    "    ada2 = AdaBoostClassifier(learning_rate=1,n_estimators=k,algorithm=\"SAMME\")\n",
    "    ada2.fit(Xtrain2, ytrain2)\n",
    "    LtestAdaboostreal.append(1-ada1.score(Xtest2, ytest2))\n",
    "    LtrainAdaboostreal.append(1-ada1.score(Xtrain2, ytrain2))\n",
    "    LtestAdaboostdiscrete.append(1-ada2.score(Xtest2, ytest2))\n",
    "    LtrainAdaboostdiscrete.append(1-ada2.score(Xtrain2, ytrain2))"
   ]
  },
  {
   "cell_type": "code",
   "execution_count": null,
   "metadata": {
    "ExecuteTime": {
     "start_time": "2018-05-29T12:30:20.268Z"
    }
   },
   "outputs": [],
   "source": [
    "plt.figure(figsize=(15,10))\n",
    "plt.title(\"Evolution de la précision d'Adaboost en fonction  du nombre de classifieurs\")\n",
    "plot(LtrainAdaboostreal,'--',label=\"Train Adaboost réel\")\n",
    "plot(LtestAdaboostreal,label=\"Test Adaboost réel\")\n",
    "plot(LtrainAdaboostdiscrete,'--',label=\"Train Adaboost discret\")\n",
    "plot(LtestAdaboostdiscrete,label=\"Test Adaboost discret\")\n",
    "plt.xlabel(\"Nombre d'estimateurs\")\n",
    "plt.ylabel(\"Pourcentage d'erreur\")\n",
    "plt.legend()\n",
    "plt.show()"
   ]
  },
  {
   "cell_type": "code",
   "execution_count": null,
   "metadata": {
    "ExecuteTime": {
     "start_time": "2018-05-29T12:30:20.271Z"
    }
   },
   "outputs": [],
   "source": [
    "LtrainAdaboost=[]\n",
    "LtestAdaboost=[]\n",
    "for k in range(10,1000,5):\n",
    "    print(k,\",\",end='')\n",
    "    ada1 = AdaBoostClassifier(learning_rate=1,n_estimators=k,algorithm=\"SAMME\")\n",
    "    ada1.fit(Xtrain1, ytrain1)\n",
    "    LtestAdaboost.append(1-ada1.score(Xtest1, ytest1))\n",
    "    LtrainAdaboost.append(1-ada1.score(Xtrain1, ytrain1))"
   ]
  },
  {
   "cell_type": "markdown",
   "metadata": {},
   "source": [
    "### Influence du Shrinkage"
   ]
  },
  {
   "cell_type": "code",
   "execution_count": null,
   "metadata": {
    "ExecuteTime": {
     "start_time": "2018-05-29T12:30:20.275Z"
    }
   },
   "outputs": [],
   "source": [
    "learning_rate=[0.1,0.3,0.6,1]\n",
    "LtrainAdaboost=[]\n",
    "LtestAdaboost=[]\n",
    "Llearnlist_train=[]\n",
    "Llearnlist_test=[]\n",
    "for j in learning_rate:\n",
    "    print(j,\":\",end='')\n",
    "    LtrainAdaboost=[]\n",
    "    LtestAdaboost=[]\n",
    "    for k in range(10,1000,5):\n",
    "        print(k,\",\",end='')\n",
    "        ada1 = AdaBoostClassifier(learning_rate=j,n_estimators=k,algorithm=\"SAMME\")\n",
    "        ada1.fit(Xtrain2, ytrain2)\n",
    "        LtestAdaboost.append(1-ada1.score(Xtest2, ytest2))\n",
    "        LtrainAdaboost.append(1-ada1.score(Xtrain2, ytrain2))\n",
    "    Llearnlist_train.append(LtrainAdaboost)\n",
    "    Llearnlist_test.append(LtestAdaboost)             "
   ]
  },
  {
   "cell_type": "code",
   "execution_count": null,
   "metadata": {
    "ExecuteTime": {
     "start_time": "2018-05-29T12:30:20.278Z"
    }
   },
   "outputs": [],
   "source": [
    "plt.figure(figsize=(15,10))\n",
    "plt.title(\"Evolution de la précision d'Adaboost en fonction  du nombre de classifieurs\")\n",
    "#plot(Llearnlist_train[0],'--',label=\"Train : l=0.1\")\n",
    "plot(range(10,1000,5),Llearnlist_test[0],label=\"Test : l=0.1\")\n",
    "#plot(Llearnlist_train[1],'--',label=\"Train : l=0.3\")\n",
    "plot(range(10,1000,5),Llearnlist_test[1],label=\"Test : l=0.3\")\n",
    "#plot(Llearnlist_train[2],'--',label=\"Train : l=0.6\")\n",
    "plot(range(10,1000,5),Llearnlist_test[2],label=\"Test : l=0.6\")\n",
    "#plot(Llearnlist_train[3],'--',label=\"Train : l=1\")\n",
    "plot(range(10,1000,5),Llearnlist_test[3],label=\"Test : l=1\")\n",
    "plt.xlabel(\"Nombre d'estimateurs\")\n",
    "plt.ylabel(\"Pourcentage d'erreur\")\n",
    "plt.legend()\n",
    "plt.show()"
   ]
  },
  {
   "cell_type": "markdown",
   "metadata": {},
   "source": [
    "#### Comparaison  Discrete Adaboost/ Real Adaboost / LogitBoost / Gentle Adaboost"
   ]
  },
  {
   "cell_type": "code",
   "execution_count": null,
   "metadata": {
    "ExecuteTime": {
     "start_time": "2018-05-29T12:30:20.282Z"
    }
   },
   "outputs": [],
   "source": [
    "Xtrain2"
   ]
  },
  {
   "cell_type": "code",
   "execution_count": null,
   "metadata": {
    "ExecuteTime": {
     "start_time": "2018-05-29T12:30:20.287Z"
    }
   },
   "outputs": [],
   "source": [
    "LtrainGentle=[]\n",
    "LtestGentle=[]\n",
    "for k in range(10,1000,5):\n",
    "    print(k,\",\",end='')\n",
    "    gentle = GentleBoostClassifier(base_estimator=DecisionTreeRegressor(max_depth=1),n_estimators=k,learning_rate=1.0)\n",
    "    gentle.fit(Xtrain2,ytrain2)\n",
    "    LtrainGentle.append(1-gentle.score(Xtrain2,ytrain2))\n",
    "    LtestGentle.append(1-gentle.score(Xtest2,ytest2))"
   ]
  },
  {
   "cell_type": "code",
   "execution_count": null,
   "metadata": {
    "ExecuteTime": {
     "start_time": "2018-05-29T12:30:20.289Z"
    }
   },
   "outputs": [],
   "source": [
    "LtrainAdaboost_real=[]\n",
    "LtestAdaboost_real=[]\n",
    "LtrainAdaboost_discrete=[]\n",
    "LtestAdaboost_discrete=[]\n",
    "LtrainLogit=[]\n",
    "LtestLogit=[]\n",
    "LtrainGentle=[]\n",
    "LtestGentle=[]\n",
    "\n",
    "for k in range(10,1000,5):\n",
    "    print(k,\",\",end='')\n",
    "    ada1 = AdaBoostClassifier(base_estimator=DecisionTreeClassifier(max_depth=1),learning_rate=1,n_estimators=k,algorithm=\"SAMME.R\")\n",
    "    ada1.fit(Xtrain2, ytrain2)\n",
    "    ada2 = AdaBoostClassifier(base_estimator=DecisionTreeClassifier(max_depth=1),learning_rate=1,n_estimators=k,algorithm=\"SAMME\")\n",
    "    ada2.fit(Xtrain2, ytrain2)\n",
    "    logit = LogitBoostClassifier(base_estimator=DecisionTreeRegressor(max_depth=1),n_estimators=k,learning_rate=1.0)\n",
    "    logit.fit(Xtrain2, ytrain2)\n",
    "    gentle = GentleBoostClassifier(base_estimator=DecisionTreeRegressor(max_depth=1),n_estimators=k,learning_rate=1.0)\n",
    "    gentle.fit(Xtrain2,ytrain2)\n",
    "    LtrainAdaboost_real.append(1-ada1.score(Xtrain2, ytrain2))\n",
    "    LtestAdaboost_real.append(1-ada1.score(Xtest2, ytest2))\n",
    "    LtrainAdaboost_discrete.append(1-ada2.score(Xtrain2, ytrain2))\n",
    "    LtestAdaboost_discrete.append(1-ada2.score(Xtest2, ytest2))\n",
    "    LtrainLogit.append(1-logit.score(Xtrain2,ytrain2))\n",
    "    LtestLogit.append(1-logit.score(Xtest2,ytest2))\n",
    "    LtrainGentle.append(1-gentle.score(Xtrain2,ytrain2))\n",
    "    LtestGentle.append(1-gentle.score(Xtest2,ytest2))\n",
    "    "
   ]
  },
  {
   "cell_type": "code",
   "execution_count": null,
   "metadata": {
    "ExecuteTime": {
     "start_time": "2018-05-29T12:30:20.294Z"
    }
   },
   "outputs": [],
   "source": [
    "plt.figure(figsize=(15,10))\n",
    "plt.title(\"Evolution de la précision des quatres algorithmes en fonction  du nombre de classifieurs\")\n",
    "plot(range(10,1000,5),LtrainAdaboost_real,label=\"Train : Adaboost réel\")\n",
    "plot(range(10,1000,5),LtestAdaboost_real,label=\"Test : Adaboost réel\")\n",
    "plot(range(10,1000,5),LtrainAdaboost_discrete,label=\"Train : Adaboost discret\")\n",
    "plot(range(10,1000,5),LtestAdaboost_discrete,label=\"Test : Adaboost discret\")\n",
    "plot(range(10,1000,5),LtrainLogit,label=\"Train : LogitBoost\")\n",
    "plot(range(10,1000,5),LtestLogit,label=\"Test : LogitBoost\")\n",
    "plot(range(10,1000,5),LtrainGentle,label=\"Train : GentleBoost\")\n",
    "plot(range(10,1000,5),LtestGentle,label=\"Test : GentleBoost\")\n",
    "plt.xlabel(\"Nombre d'estimateurs\")\n",
    "plt.ylabel(\"Pourcentage d'erreur\")\n",
    "plt.legend()\n",
    "plt.show()"
   ]
  },
  {
   "cell_type": "markdown",
   "metadata": {},
   "source": [
    "##### Données réeles"
   ]
  },
  {
   "cell_type": "code",
   "execution_count": null,
   "metadata": {
    "ExecuteTime": {
     "start_time": "2018-05-29T12:30:20.299Z"
    }
   },
   "outputs": [],
   "source": [
    "# Mise en place dataset Cancer du Sein\n",
    "data = load_digits(n_class=2)\n",
    "X2=data[\"data\"]\n",
    "y2=data[\"target\"]\n",
    "X2=preprocessing.normalize(X2)\n",
    "Xtrain3, Xtest3, ytrain3, ytest3 = train_test_split(X2, y2, test_size=0.3)"
   ]
  },
  {
   "cell_type": "code",
   "execution_count": null,
   "metadata": {
    "ExecuteTime": {
     "start_time": "2018-05-29T12:30:20.303Z"
    }
   },
   "outputs": [],
   "source": [
    "LtrainAdaboost_real=[]\n",
    "LtestAdaboost_real=[]\n",
    "for k in range(1,501,5):\n",
    "    print(k,\",\",end='')\n",
    "    ada1 = AdaBoostClassifier(base_estimator=DecisionTreeClassifier(max_depth=1),learning_rate=1,n_estimators=k,algorithm=\"SAMME\")\n",
    "    ada1.fit(Xtrain1, ytrain1)\n",
    "    LtrainAdaboost_real.append(1-ada1.score(Xtrain1, ytrain1))\n",
    "    LtestAdaboost_real.append(1-ada1.score(Xtest1, ytest1))"
   ]
  },
  {
   "cell_type": "code",
   "execution_count": null,
   "metadata": {
    "ExecuteTime": {
     "start_time": "2018-05-29T12:30:20.308Z"
    }
   },
   "outputs": [],
   "source": [
    "plt.figure(figsize=(15,10))\n",
    "plt.title(\"Evolution de la précision des quatres algorithmes en fonction  du nombre de classifieurs\")\n",
    "plot(range(1,501,5),LtrainAdaboost_real,label=\"Train : Adaboost discret\")\n",
    "plot(range(1,501,5),LtestAdaboost_real,label=\"Test : Adaboost discret\")\n",
    "plt.xlabel(\"Nombre d'estimateurs\")\n",
    "plt.ylabel(\"Pourcentage d'erreur\")\n",
    "plt.legend()\n",
    "plt.show()"
   ]
  },
  {
   "cell_type": "code",
   "execution_count": null,
   "metadata": {
    "ExecuteTime": {
     "start_time": "2018-05-29T12:30:20.311Z"
    }
   },
   "outputs": [],
   "source": [
    "# Adaboost\n",
    "ada_real1 = AdaBoostClassifier(\n",
    "    learning_rate=1,\n",
    "    n_estimators=50,\n",
    "    algorithm=\"SAMME\")\n",
    "ada_real1.fit(Xtrain2, ytrain2)\n",
    "ada_real1_err = ada_real1.score(Xtest2, ytest2)\n",
    "ada_real1.estimator_weights_\n",
    "ada_real1.estimators_[0](Xtrain2[0],ytrain2[0])"
   ]
  },
  {
   "cell_type": "code",
   "execution_count": null,
   "metadata": {
    "ExecuteTime": {
     "start_time": "2018-05-29T12:30:20.315Z"
    }
   },
   "outputs": [],
   "source": [
    "LtrainAdaboost_real=[]\n",
    "LtestAdaboost_real=[]\n",
    "LtrainAdaboost_discrete=[]\n",
    "LtestAdaboost_discrete=[]\n",
    "LtrainLogit=[]\n",
    "LtestLogit=[]\n",
    "LtrainGentle=[]\n",
    "LtestGentle=[]\n",
    "\n",
    "\n",
    "for k in range(1,1000):\n",
    "    ada_week = AdaBoostClassifier(base_estimator=dt,learning_rate=1,n_estimators=k,algorithm=\"SAMME.R\")\n",
    "    ada_week.fit(Xtrain2, ytrain2)\n",
    "    Ltrainweek.append(ada_week.score(Xtrain2, ytrain2))\n",
    "    Ltestweek.append(ada_week.score(Xtest2, ytest2))\n",
    "    ada_strong = AdaBoostClassifier(base_estimator=sv,learning_rate=1,n_estimators=k,algorithm=\"SAMME.R\")\n",
    "    ada_strong.fit(Xtrain2, ytrain2)\n",
    "    Ltrainstrong.append(ada_strong.score(Xtrain2, ytrain2))\n",
    "    Lteststrong.append(ada_strong.score(Xtest2, ytest2))"
   ]
  }
 ],
 "metadata": {
  "anaconda-cloud": {},
  "kernelspec": {
   "display_name": "Python [conda root]",
   "language": "python",
   "name": "conda-root-py"
  },
  "language_info": {
   "codemirror_mode": {
    "name": "ipython",
    "version": 3
   },
   "file_extension": ".py",
   "mimetype": "text/x-python",
   "name": "python",
   "nbconvert_exporter": "python",
   "pygments_lexer": "ipython3",
   "version": "3.5.4"
  }
 },
 "nbformat": 4,
 "nbformat_minor": 2
}
